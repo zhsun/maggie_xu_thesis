{
 "cells": [
  {
   "cell_type": "code",
   "execution_count": 12,
   "metadata": {
    "collapsed": true
   },
   "outputs": [],
   "source": [
    "import numpy as np\n",
    "import os"
   ]
  },
  {
   "cell_type": "code",
   "execution_count": 2,
   "metadata": {
    "collapsed": true
   },
   "outputs": [],
   "source": [
    "def LoadBasicIdCtrFeature(feature_filename):\n",
    "    m = {}\n",
    "    total_impressions = 0.0\n",
    "    total_clicks = 0.0\n",
    "    f = open(feature_filename, 'r')\n",
    "    for line in f:\n",
    "        line = line.strip().split(',')\n",
    "        id = int(line[0])\n",
    "        impressions = float(line[1])\n",
    "        clicks = float(line[2])\n",
    "        ctr = float(line[3])\n",
    "        m[id] = ctr\n",
    "        total_impressions += impressions\n",
    "        total_clicks += clicks\n",
    "    # global average as fallback\n",
    "    m[0] = total_clicks / total_impressions\n",
    "    return m"
   ]
  },
  {
   "cell_type": "code",
   "execution_count": 11,
   "metadata": {
    "collapsed": true
   },
   "outputs": [],
   "source": [
    "def LookupWithDefault(feature_ctr_map, id):\n",
    "    if id in feature_ctr_map:\n",
    "        return feature_ctr_map[id]\n",
    "    return feature_ctr_map[0]"
   ]
  },
  {
   "cell_type": "code",
   "execution_count": 3,
   "metadata": {
    "collapsed": true
   },
   "outputs": [],
   "source": [
    "ad_ctr_filename = './feature/ad_ctr.csv'\n",
    "advertiser_ctr_filename = './feature/advertiser_ctr.csv'\n",
    "depth_ctr_filename = './feature/depth_ctr.csv'\n",
    "description_ctr_filename = './feature/description_ctr.csv'\n",
    "keyword_ctr_filename = './feature/keyword_ctr.csv'\n",
    "position_ctr_filename = './feature/position_ctr.csv'\n",
    "query_ctr_filename = './feature/query_ctr.csv'\n",
    "title_ctr_filename = './feature/title_ctr.csv'\n",
    "user_ctr_filename = './feature/user_ctr.csv'"
   ]
  },
  {
   "cell_type": "code",
   "execution_count": 5,
   "metadata": {
    "collapsed": false
   },
   "outputs": [],
   "source": [
    "ad_ctr = LoadBasicIdCtrFeature(ad_ctr_filename)\n",
    "advertiser_ctr = LoadBasicIdCtrFeature(advertiser_ctr_filename)\n",
    "depth_ctr = LoadBasicIdCtrFeature(depth_ctr_filename)\n",
    "description_ctr = LoadBasicIdCtrFeature(description_ctr_filename)\n",
    "keyword_ctr = LoadBasicIdCtrFeature(keyword_ctr_filename)\n",
    "position_ctr = LoadBasicIdCtrFeature(position_ctr_filename)\n",
    "query_ctr = LoadBasicIdCtrFeature(query_ctr_filename)\n",
    "title_ctr = LoadBasicIdCtrFeature(title_ctr_filename)\n",
    "user_ctr = LoadBasicIdCtrFeature(user_ctr_filename)"
   ]
  },
  {
   "cell_type": "code",
   "execution_count": 6,
   "metadata": {
    "collapsed": true
   },
   "outputs": [],
   "source": [
    "data_filename = './data/sampled_training.txt'"
   ]
  },
  {
   "cell_type": "code",
   "execution_count": 9,
   "metadata": {
    "collapsed": true
   },
   "outputs": [],
   "source": [
    "# column index for each dimensions and metrics in data file\n",
    "click_index = 0\n",
    "impression_index = 1\n",
    "ad_index = 3\n",
    "advertiser_index = 4\n",
    "depth_index = 5\n",
    "position_index = 6\n",
    "query_index = 7\n",
    "keyword_index = 8\n",
    "title_index = 9\n",
    "description_index = 10\n",
    "user_index = 11"
   ]
  },
  {
   "cell_type": "code",
   "execution_count": 10,
   "metadata": {
    "collapsed": true
   },
   "outputs": [],
   "source": [
    "output_filename = './data/sampled_data_with_feature.txt'"
   ]
  },
  {
   "cell_type": "code",
   "execution_count": 15,
   "metadata": {
    "collapsed": false
   },
   "outputs": [],
   "source": [
    "f_in = open(data_filename, 'r')\n",
    "f_out = open(output_filename, 'w')\n",
    "\n",
    "for line in f_in:\n",
    "    line = line.strip().split(\"\\t\")\n",
    "    click = int(line[click_index])\n",
    "    impression = int(line[impression_index])\n",
    "    ad_id = int(line[ad_index])\n",
    "    advertiser_id = int(line[advertiser_index])\n",
    "    depth_id = int(line[depth_index])\n",
    "    position_id = int(line[position_index])\n",
    "    query_id = int(line[query_index])\n",
    "    keyword_id = int(line[keyword_index])\n",
    "    title_id = int(line[title_index])\n",
    "    description_id = int(line[description_index])\n",
    "    user_id = int(line[user_index])\n",
    "    \n",
    "    output_line = \",\".join([str(impression),\n",
    "                            str(click),\n",
    "                            str(LookupWithDefault(ad_ctr, ad_id)),\n",
    "                            str(LookupWithDefault(advertiser_ctr, advertiser_id)),\n",
    "                            str(LookupWithDefault(depth_ctr, depth_id)),\n",
    "                            str(LookupWithDefault(position_ctr, position_id)),\n",
    "                            str(LookupWithDefault(query_ctr, query_id)),\n",
    "                            str(LookupWithDefault(keyword_ctr, keyword_id)),\n",
    "                            str(LookupWithDefault(title_ctr, title_id)),\n",
    "                            str(LookupWithDefault(description_ctr, description_id)),\n",
    "                            str(LookupWithDefault(user_ctr, user_id))\n",
    "                           ])\n",
    "    f_out.write(output_line + os.linesep)\n",
    "\n",
    "f_in.close()\n",
    "f_out.close()"
   ]
  },
  {
   "cell_type": "code",
   "execution_count": null,
   "metadata": {
    "collapsed": true
   },
   "outputs": [],
   "source": []
  }
 ],
 "metadata": {
  "kernelspec": {
   "display_name": "Python 2",
   "language": "python",
   "name": "python2"
  },
  "language_info": {
   "codemirror_mode": {
    "name": "ipython",
    "version": 2
   },
   "file_extension": ".py",
   "mimetype": "text/x-python",
   "name": "python",
   "nbconvert_exporter": "python",
   "pygments_lexer": "ipython2",
   "version": "2.7.11"
  }
 },
 "nbformat": 4,
 "nbformat_minor": 0
}
