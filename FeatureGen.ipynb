{
 "cells": [
  {
   "cell_type": "code",
   "execution_count": 6,
   "metadata": {
    "collapsed": true
   },
   "outputs": [],
   "source": [
    "import numpy as np\n",
    "import os"
   ]
  },
  {
   "cell_type": "code",
   "execution_count": 7,
   "metadata": {
    "collapsed": true
   },
   "outputs": [],
   "source": [
    "def ExtractBasicIdCtrFeature(training_filename, dim_index):\n",
    "    f = open(training_filename, 'r')\n",
    "    dim_fields = np.zeros((30000000,2))\n",
    "    for line in f:\n",
    "        line = line.strip().split(\"\\t\")\n",
    "        click = float(line[0])\n",
    "        impression = float(line[1])\n",
    "        dim_value = int(line[dim_index])\n",
    "        \n",
    "        dim_fields[dim_value,0] += impression\n",
    "        dim_fields[dim_value,1] += click\n",
    "    return dim_fields"
   ]
  },
  {
   "cell_type": "code",
   "execution_count": 8,
   "metadata": {
    "collapsed": true
   },
   "outputs": [],
   "source": [
    "def OutputBasicIdCtrFeature(output_filename, dim_fields):\n",
    "    f = open(output_filename, 'w')\n",
    "    n = len(dim_fields)\n",
    "    for i in range(n):\n",
    "        impression = dim_fields[i,0]\n",
    "        if impression > 0:\n",
    "            click = dim_fields[i,1]\n",
    "            line = \"{0},{1},{2},{3}\".format(i, impression, click, click / impression) + os.linesep\n",
    "            f.write(line)\n",
    "    f.close()"
   ]
  },
  {
   "cell_type": "code",
   "execution_count": 9,
   "metadata": {
    "collapsed": false
   },
   "outputs": [],
   "source": [
    "fields = [(\"ad\", 3), \n",
    "          (\"advertiser\", 4), \n",
    "          (\"depth\", 5),\n",
    "          (\"position\", 6),\n",
    "          (\"query\", 7), \n",
    "          (\"keyword\", 8), \n",
    "          (\"title\", 9), \n",
    "          (\"description\", 10), \n",
    "          (\"user\", 11)]"
   ]
  },
  {
   "cell_type": "code",
   "execution_count": 10,
   "metadata": {
    "collapsed": false
   },
   "outputs": [],
   "source": [
    "training_filename = './data/training.txt'\n",
    "for dim_name, dim_index in fields:\n",
    "    feature_output_filename = os.path.join('./feature', dim_name + \"_ctr.csv\")\n",
    "    dim_fields = ExtractBasicIdCtrFeature(training_filename, dim_index)\n",
    "    OutputBasicIdCtrFeature(feature_output_filename, dim_fields)"
   ]
  },
  {
   "cell_type": "code",
   "execution_count": null,
   "metadata": {
    "collapsed": true
   },
   "outputs": [],
   "source": []
  }
 ],
 "metadata": {
  "kernelspec": {
   "display_name": "Python 2",
   "language": "python",
   "name": "python2"
  },
  "language_info": {
   "codemirror_mode": {
    "name": "ipython",
    "version": 2
   },
   "file_extension": ".py",
   "mimetype": "text/x-python",
   "name": "python",
   "nbconvert_exporter": "python",
   "pygments_lexer": "ipython2",
   "version": "2.7.11"
  }
 },
 "nbformat": 4,
 "nbformat_minor": 0
}
