{
 "cells": [
  {
   "cell_type": "code",
   "execution_count": 2,
   "metadata": {
    "collapsed": true
   },
   "outputs": [],
   "source": [
    "import math"
   ]
  },
  {
   "cell_type": "code",
   "execution_count": 3,
   "metadata": {
    "collapsed": true
   },
   "outputs": [],
   "source": [
    "# Submission file should have 1 predicted CTR for each test entry.\n",
    "# This function returns a list of pCTR.\n",
    "def ReadSubmissionFile(filename):\n",
    "    pctr = []\n",
    "    f = open(filename)\n",
    "    for line in f:\n",
    "        line = line.strip()\n",
    "        pctr.append(float(line))\n",
    "    return pctr"
   ]
  },
  {
   "cell_type": "code",
   "execution_count": 4,
   "metadata": {
    "collapsed": true
   },
   "outputs": [],
   "source": [
    "# Solution file should have 3 comma separated columns [clicks,impressions,indicator]\n",
    "# This function returns a list of clicks and a list of impressions.\n",
    "def ReadSolutionFile(filename):\n",
    "    clicks = []\n",
    "    impressions = []\n",
    "    f = open(filename)\n",
    "    for line in f:\n",
    "        line = line.strip().split(\",\")\n",
    "        clicks.append(float(line[0]))\n",
    "        impressions.append(float(line[1]))\n",
    "    return clicks, impressions"
   ]
  },
  {
   "cell_type": "code",
   "execution_count": 5,
   "metadata": {
    "collapsed": true
   },
   "outputs": [],
   "source": [
    "# Calculate the score using element-wise score function.\n",
    "# element-wise score function takes [click, impression, predicted_ctr]\n",
    "# as argument and return the score for this entry.\n",
    "def ScoreElementwiseMetric(clicks, impressions, pctrs, score_fn):\n",
    "    score = 0.0\n",
    "    weight = 0.0\n",
    "    for click, impression, pctr in zip(clicks, impressions, pctrs):\n",
    "        score += score_fn(click, impression, pctr) * impression\n",
    "        weight += impression\n",
    "    return score / weight"
   ]
  },
  {
   "cell_type": "code",
   "execution_count": 6,
   "metadata": {
    "collapsed": true
   },
   "outputs": [],
   "source": [
    "# Calculate the weighted root mean square error.\n",
    "def WRMSE(clicks, impressions, pctrs):\n",
    "    mse = lambda click, impression, pctr: math.pow(click / impression - pctr, 2.0)\n",
    "    wmse = ScoreElementwiseMetric(clicks, impressions, pctrs, mse)\n",
    "    return math.sqrt(wmse)"
   ]
  },
  {
   "cell_type": "code",
   "execution_count": 7,
   "metadata": {
    "collapsed": true
   },
   "outputs": [],
   "source": [
    "# Calculate the normalized weighted mean absolute error.\n",
    "def NWMAE(clicks, impressions, pctrs):\n",
    "    err = lambda click, impression, pctr: abs(click / impression - pctr)\n",
    "    return ScoreElementwiseMetric(clicks, impressions, pctrs, err)"
   ]
  },
  {
   "cell_type": "code",
   "execution_count": 1,
   "metadata": {
    "collapsed": true
   },
   "outputs": [],
   "source": [
    "# Calculate the area under curve.\n",
    "def AUC(clicks, impressions, pctrs):\n",
    "    sorted_index = sorted(range(len(pctrs)),key=lambda i: pctrs[i], reverse=True)\n",
    "    auc_temp = 0.0\n",
    "    click_sum = 0.0\n",
    "    old_click_sum = 0.0\n",
    "    no_click = 0.0\n",
    "    no_click_sum = 0.0\n",
    "    # treat all instances with the same pctr as coming from the\n",
    "    # same bucket\n",
    "    last_ctr = pctrs[sorted_index[0]] + 1.0\n",
    "    for i in range(len(pctrs)):\n",
    "        if last_ctr != pctrs[sorted_index[i]]: \n",
    "            auc_temp += (click_sum + old_click_sum) * no_click / 2.0        \n",
    "            old_click_sum = click_sum\n",
    "            no_click = 0.0\n",
    "            last_ctr = pctrs[sorted_index[i]]\n",
    "        no_click += impressions[sorted_index[i]] - clicks[sorted_index[i]]\n",
    "        no_click_sum += impressions[sorted_index[i]] - clicks[sorted_index[i]]\n",
    "        click_sum += clicks[sorted_index[i]]\n",
    "    auc_temp += (click_sum + old_click_sum) * no_click / 2.0\n",
    "    auc = auc_temp / (click_sum * no_click_sum)\n",
    "    return auc"
   ]
  },
  {
   "cell_type": "code",
   "execution_count": null,
   "metadata": {
    "collapsed": true
   },
   "outputs": [],
   "source": []
  }
 ],
 "metadata": {
  "kernelspec": {
   "display_name": "Python 2",
   "language": "python",
   "name": "python2"
  },
  "language_info": {
   "codemirror_mode": {
    "name": "ipython",
    "version": 2
   },
   "file_extension": ".py",
   "mimetype": "text/x-python",
   "name": "python",
   "nbconvert_exporter": "python",
   "pygments_lexer": "ipython2",
   "version": "2.7.11"
  }
 },
 "nbformat": 4,
 "nbformat_minor": 0
}
