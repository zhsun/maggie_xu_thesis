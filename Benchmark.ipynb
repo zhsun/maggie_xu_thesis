{
 "cells": [
  {
   "cell_type": "code",
   "execution_count": 1,
   "metadata": {
    "collapsed": false
   },
   "outputs": [],
   "source": [
    "from KddUtils import *"
   ]
  },
  {
   "cell_type": "code",
   "execution_count": 2,
   "metadata": {
    "collapsed": true
   },
   "outputs": [],
   "source": [
    "# benchmarks is a dictionary of [benchmark_name, benchmark_filename]\n",
    "benchmarks = {\n",
    "    'ad_benchmark': './data/ad_benchmark.csv',\n",
    "    'advertiser_benchmark': './data/advertiser_benchmark.csv',\n",
    "    'description_benchmark': './data/description_benchmark.csv',\n",
    "    'keyword_benchmark': './data/keyword_benchmark.csv',\n",
    "    'mean_benchmark': './data/mean_benchmark.csv',\n",
    "    'query_benchmark': './data/query_benchmark.csv',\n",
    "    'title_benchmark': './data/title_benchmark.csv',\n",
    "    'user_benchmark': './data/user_benchmark.csv'\n",
    "}"
   ]
  },
  {
   "cell_type": "code",
   "execution_count": 3,
   "metadata": {
    "collapsed": true
   },
   "outputs": [],
   "source": [
    "kdd_track2_solution_filename = './data/kdd_track2_solution.csv'"
   ]
  },
  {
   "cell_type": "code",
   "execution_count": 4,
   "metadata": {
    "collapsed": false
   },
   "outputs": [
    {
     "name": "stdout",
     "output_type": "stream",
     "text": [
      "keyword_benchmark\n",
      "WRMSE:  0.144442746047\n",
      "NWMAE:  0.0526469079418\n",
      "AUC: 0.705581389792\n",
      "\n",
      "title_benchmark\n",
      "WRMSE:  0.145915380464\n",
      "NWMAE:  0.0524669097836\n",
      "AUC: 0.698669067011\n",
      "\n",
      "mean_benchmark\n",
      "WRMSE:  0.146836801669\n",
      "NWMAE:  0.057618833959\n",
      "AUC: 0.5\n",
      "\n",
      "query_benchmark\n",
      "WRMSE:  0.147325720092\n",
      "NWMAE:  0.0538691748149\n",
      "AUC: 0.692191781617\n",
      "\n",
      "user_benchmark\n",
      "WRMSE:  0.154925739098\n",
      "NWMAE:  0.0545705037098\n",
      "AUC: 0.592648093607\n",
      "\n",
      "description_benchmark\n",
      "WRMSE:  0.145315121391\n",
      "NWMAE:  0.0522590347785\n",
      "AUC: 0.695083630725\n",
      "\n",
      "ad_benchmark\n",
      "WRMSE:  0.143469216011\n",
      "NWMAE:  0.0518477007255\n",
      "AUC: 0.711978788597\n",
      "\n",
      "advertiser_benchmark\n",
      "WRMSE:  0.144747869518\n",
      "NWMAE:  0.05426675536\n",
      "AUC: 0.665686590062\n",
      "\n"
     ]
    }
   ],
   "source": [
    "clicks, impressions = ReadSolutionFile(kdd_track2_solution_filename)\n",
    "for benchmark_name in benchmarks:\n",
    "    benchmark_filename = benchmarks[benchmark_name]\n",
    "    pctr = ReadSubmissionFile(benchmark_filename)\n",
    "    print benchmark_name\n",
    "    print \"WRMSE: \", WRMSE(clicks, impressions, pctr)\n",
    "    print \"NWMAE: \", NWMAE(clicks, impressions, pctr)\n",
    "    print \"AUC:\", AUC(clicks, impressions, pctr)\n",
    "    print"
   ]
  },
  {
   "cell_type": "markdown",
   "metadata": {
    "collapsed": true
   },
   "source": [
    "## This is some analysis"
   ]
  },
  {
   "cell_type": "code",
   "execution_count": null,
   "metadata": {
    "collapsed": true
   },
   "outputs": [],
   "source": []
  }
 ],
 "metadata": {
  "kernelspec": {
   "display_name": "Python 2",
   "language": "python",
   "name": "python2"
  },
  "language_info": {
   "codemirror_mode": {
    "name": "ipython",
    "version": 2
   },
   "file_extension": ".py",
   "mimetype": "text/x-python",
   "name": "python",
   "nbconvert_exporter": "python",
   "pygments_lexer": "ipython2",
   "version": "2.7.11"
  }
 },
 "nbformat": 4,
 "nbformat_minor": 0
}
